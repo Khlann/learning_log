{
 "cells": [
  {
   "cell_type": "markdown",
   "metadata": {},
   "source": [
    "# nn.Conv2d"
   ]
  },
  {
   "cell_type": "code",
   "execution_count": null,
   "metadata": {},
   "outputs": [
    {
     "name": "stdout",
     "output_type": "stream",
     "text": [
      "input_shape: torch.Size([1, 3, 32, 32])\n",
      "output_shape: torch.Size([1, 16, 32, 32])\n"
     ]
    }
   ],
   "source": [
    "import torch\n",
    "import torch.nn as nn\n",
    "\n",
    "input_tensor = torch.randn(1,3,32,32)\n",
    "# torch.randn 函数用于生成服从标准正态分布的随机数\n",
    "\n",
    "# 创建一个卷积层\n",
    "conv_layer = nn.Conv2d(in_channels=3, out_channels=16, kernel_size=3, stride=1, padding=1)\n",
    "# 每个卷积核会对输入张量的所有通道进行卷积操作，然后把结果相加，得到一个单通道的特征图。\n",
    "\n",
    "# 前向传播\n",
    "output_tensor = conv_layer(input_tensor)\n",
    "\n",
    "print(\"input_shape:\" , input_tensor.shape)\n",
    "print(\"output_shape:\" , output_tensor.shape)\n"
   ]
  },
  {
   "cell_type": "markdown",
   "metadata": {},
   "source": [
    "# ReLU"
   ]
  },
  {
   "cell_type": "code",
   "execution_count": 7,
   "metadata": {},
   "outputs": [
    {
     "name": "stdout",
     "output_type": "stream",
     "text": [
      "input_shape: torch.Size([1, 3, 32, 32])\n",
      "output_shape: torch.Size([1, 16, 32, 32])\n"
     ]
    }
   ],
   "source": [
    "import torch\n",
    "import torch.nn as nn\n",
    "\n",
    "input_tensor = torch.randn(1,3,32,32)\n",
    "# torch.randn 函数用于生成服从标准正态分布的随机数\n",
    "\n",
    "# 创建一个卷积层\n",
    "conv_layer = nn.Conv2d(in_channels=3, out_channels=16, kernel_size=3, stride=1, padding=1)\n",
    "# 每个卷积核会对输入张量的所有通道进行卷积操作，然后把结果相加，得到一个单通道的特征图。\n",
    "\n",
    "# 前向传播\n",
    "x = conv_layer(input_tensor)\n",
    "x = nn.ReLU()(x)\n",
    "\n",
    "print(\"input_shape:\" , input_tensor.shape)\n",
    "print(\"output_shape:\" , x.shape)\n"
   ]
  },
  {
   "cell_type": "markdown",
   "metadata": {},
   "source": [
    "# MaxPool2d"
   ]
  },
  {
   "cell_type": "code",
   "execution_count": 8,
   "metadata": {},
   "outputs": [
    {
     "name": "stdout",
     "output_type": "stream",
     "text": [
      "Input_size: torch.Size([1, 3, 32, 32])\n",
      "Output_size: torch.Size([1, 3, 16, 16])\n"
     ]
    }
   ],
   "source": [
    "import torch \n",
    "import torch.nn as nn\n",
    "\n",
    "input_tensor = torch.randn(1,3,32,32)\n",
    "\n",
    "pool_layer = nn.MaxPool2d(kernel_size=2, stride=2)\n",
    "\n",
    "output = pool_layer(input_tensor)\n",
    "\n",
    "print(\"Input_size:\", input_tensor.shape)\n",
    "print(\"Output_size:\", output.shape)"
   ]
  },
  {
   "cell_type": "markdown",
   "metadata": {},
   "source": [
    "# Linear"
   ]
  },
  {
   "cell_type": "code",
   "execution_count": 12,
   "metadata": {},
   "outputs": [
    {
     "name": "stdout",
     "output_type": "stream",
     "text": [
      "Input_size: torch.Size([1, 3, 32, 32])\n",
      "Output_size: torch.Size([1, 10])\n"
     ]
    }
   ],
   "source": [
    "import torch \n",
    "import torch.nn as nn\n",
    "\n",
    "input_tensor = torch.randn(1,3,32,32)\n",
    "\n",
    "linear_layer = nn.Linear(3*32*32, 10)\n",
    "\n",
    "x = input_tensor.view(-1, 3*32*32)\n",
    "output = linear_layer(x)\n",
    "\n",
    "print(\"Input_size:\", input_tensor.shape)\n",
    "print(\"Output_size:\", output.shape)"
   ]
  },
  {
   "cell_type": "code",
   "execution_count": 13,
   "metadata": {},
   "outputs": [
    {
     "name": "stdout",
     "output_type": "stream",
     "text": [
      "Input_size: torch.Size([1, 3072])\n",
      "Output_size: torch.Size([1, 10])\n"
     ]
    }
   ],
   "source": [
    "import torch \n",
    "import torch.nn as nn\n",
    "\n",
    "input_tensor = torch.randn(1,3,32,32)\n",
    "\n",
    "# 展平输入张量\n",
    "input_tensor_flattened = input_tensor.flatten(start_dim=1)  # 从第 1 维开始展平\n",
    "\n",
    "linear_layer = nn.Linear(3*32*32, 10)\n",
    "\n",
    "# 使用展平后的张量作为输入\n",
    "output = linear_layer(input_tensor_flattened)\n",
    "\n",
    "print(\"Input_size:\", input_tensor_flattened.shape)\n",
    "print(\"Output_size:\", output.shape)"
   ]
  }
 ],
 "metadata": {
  "kernelspec": {
   "display_name": "base",
   "language": "python",
   "name": "python3"
  },
  "language_info": {
   "codemirror_mode": {
    "name": "ipython",
    "version": 3
   },
   "file_extension": ".py",
   "mimetype": "text/x-python",
   "name": "python",
   "nbconvert_exporter": "python",
   "pygments_lexer": "ipython3",
   "version": "3.12.4"
  }
 },
 "nbformat": 4,
 "nbformat_minor": 2
}
