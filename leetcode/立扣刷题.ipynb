{
 "cells": [
  {
   "cell_type": "markdown",
   "metadata": {},
   "source": [
    "# 54. 螺旋矩阵"
   ]
  },
  {
   "cell_type": "code",
   "execution_count": 6,
   "metadata": {},
   "outputs": [
    {
     "name": "stdout",
     "output_type": "stream",
     "text": [
      "[1, 2, 3, 6, 9, 8, 7, 4, 5]\n"
     ]
    }
   ],
   "source": [
    "from typing import List\n",
    "\n",
    "class Solution:\n",
    "    # def spiralOrder(self, matrix: List[List[int]]) -> List[int]:\n",
    "      def spiralOrder(self, matrix: List[List[int]]):\n",
    "        result = []\n",
    "        while matrix:\n",
    "            result += matrix.pop(0)  # 取矩阵第一行并删除\n",
    "            matrix = list(zip(*matrix))[::-1]  # 旋转矩阵\n",
    "        return result\n",
    "\n",
    "# 测试代码\n",
    "if __name__ == \"__main__\":\n",
    "    matrix = [\n",
    "        [1, 2, 3],\n",
    "        [4, 5, 6],\n",
    "        [7, 8, 9]\n",
    "    ]\n",
    "    solution = Solution()\n",
    "    # print(solution)\n",
    "    result = solution.spiralOrder(matrix)\n",
    "    print(result)  # 输出: [1, 2, 3, 6, 9, 8, 7, 4, 5]\n"
   ]
  },
  {
   "cell_type": "markdown",
   "metadata": {},
   "source": [
    "matrix: List[List[int]] 是 Python 中的类型注解，用于描述 matrix 参数的类型。\n",
    "List[List[int]]：表示一个二维列表，其中每个元素都是 List[int] 类型，即每个元素都是一个整数列表。\n",
    "-> List[int] 是 Python 中的类型注解，用于描述函数的返回值类型。\n",
    "这段代码实现了一个螺旋顺序遍历矩阵的功能。通过不断提取矩阵的第一行，并对剩余的矩阵进行逆时针旋转，最终达到螺旋顺序遍历的效果。\n",
    "旋转矩阵：\n",
    "        *matrix：将 matrix 解包成多个参数传递给 zip 函数，相当于把 matrix 的每一行作为一个独立的参数传递给 zip 函数。\n",
    "        zip 函数：将多个参数重新组合，生成一个新的迭代器，其中每个元组包含来自每个原始参数（即每行）的对应元素。\n",
    "在 Python 中，切片操作符的基本形式是 start:stop:step，它的作用是从 start 位置开始到 stop 位置结束，以 step 为步长提取序列中的元素。\n",
    "    step 是 -1，表示每次向左（反方向）提取一个元素，即从右到左遍历序列。\n",
    "\n"
   ]
  },
  {
   "cell_type": "markdown",
   "metadata": {},
   "source": [
    "# 289. 生命游戏"
   ]
  },
  {
   "cell_type": "code",
   "execution_count": 7,
   "metadata": {},
   "outputs": [
    {
     "name": "stdout",
     "output_type": "stream",
     "text": [
      "[[0, 0, 0], [1, 0, 1], [0, 1, 1], [0, 1, 0]]\n"
     ]
    }
   ],
   "source": [
    "class Solution:\n",
    "    def gameOfLife(self, board: List[List[int]]) -> None:\n",
    "        \"\"\"\n",
    "        Do not return anything, modify board in-place instead.\n",
    "        \"\"\"\n",
    "        import numpy as np\n",
    "        r, c = len(board), len(board[0])\n",
    "        # 下面两行做 zero padding\n",
    "        board_exp = np.array([[0 for _ in range(c + 2)] for _ in range(r + 2)])\n",
    "        board_exp[1:1 + r, 1:1 + c] = np.array(board)\n",
    "        # 设置卷积核\n",
    "        kernel = np.array([[1, 1, 1], [1, 0, 1], [1, 1, 1]])\n",
    "        # 开始卷积\n",
    "        for i in range(1, r + 1):\n",
    "            for j in range(1, c + 1):\n",
    "                # 统计细胞周围 8 个位置的状态\n",
    "                temp_sum = np.sum(kernel * board_exp[i - 1:i + 2, j - 1:j + 2])\n",
    "                # 按照题目规则进行判断\n",
    "                if board_exp[i, j] == 1:\n",
    "                    if temp_sum < 2 or temp_sum > 3:\n",
    "                        board[i - 1][j - 1] = 0\n",
    "                else:\n",
    "                    if temp_sum == 3:\n",
    "                        board[i - 1][j - 1] = 1  \n",
    "\n",
    "if __name__ == \"__main__\":\n",
    "    board=[[0,1,0],[0,0,1],[1,1,1],[0,0,0]]\n",
    "    solution = Solution()\n",
    "    solution.gameOfLife(board)\n",
    "    print(board)  # 输出: [[0,0,0],[1,0,1],[0,1,1],[0,1,0]]"
   ]
  },
  {
   "cell_type": "markdown",
   "metadata": {},
   "source": [
    "_ 是一个常见的惯例，表示循环变量的值将被忽略。\n"
   ]
  },
  {
   "cell_type": "code",
   "execution_count": 19,
   "metadata": {},
   "outputs": [
    {
     "data": {
      "text/plain": [
       "array([[0, 1, 1, 1, 0, 0, 0, 0, 0, 0, 0],\n",
       "       [0, 1, 0, 1, 0, 0, 0, 0, 0, 0, 0],\n",
       "       [0, 1, 1, 1, 0, 0, 0, 0, 0, 0, 0],\n",
       "       [0, 0, 0, 0, 0, 0, 0, 0, 0, 0, 0],\n",
       "       [0, 0, 0, 0, 0, 0, 0, 0, 0, 0, 0],\n",
       "       [0, 0, 0, 0, 0, 0, 0, 0, 0, 0, 0],\n",
       "       [0, 0, 0, 0, 0, 0, 0, 0, 0, 0, 0],\n",
       "       [0, 0, 0, 0, 0, 0, 0, 0, 0, 0, 0],\n",
       "       [0, 0, 0, 0, 0, 0, 0, 0, 0, 0, 0],\n",
       "       [0, 0, 0, 0, 0, 0, 0, 0, 0, 0, 0],\n",
       "       [0, 0, 0, 0, 0, 0, 0, 0, 0, 0, 0]])"
      ]
     },
     "execution_count": 19,
     "metadata": {},
     "output_type": "execute_result"
    }
   ],
   "source": [
    "import numpy as np\n",
    "\n",
    "y=np.array([[1,1,1],[1,0,1],[1,1,1]])\n",
    "x=np.array([[0 for _ in range(11)] for _ in range(11)])\n",
    "x[0:0+3,1:1+3]=np.array(y)\n",
    "\n",
    "x"
   ]
  },
  {
   "cell_type": "markdown",
   "metadata": {},
   "source": [
    "# 48. 旋转图像"
   ]
  },
  {
   "cell_type": "code",
   "execution_count": 1,
   "metadata": {},
   "outputs": [
    {
     "name": "stdout",
     "output_type": "stream",
     "text": [
      "[[7, 4, 1], [8, 5, 2], [9, 6, 3]]\n"
     ]
    }
   ],
   "source": [
    "from typing import List\n",
    "\n",
    "class Solution:\n",
    "    def rotate(self, matrix: List[List[int]]) -> None:\n",
    "        \"\"\"\n",
    "        Do not return anything, modify matrix in-place instead.\n",
    "        \"\"\"\n",
    "        import numpy as np\n",
    "        matrix = np.array(matrix)\n",
    "        matrix = np.transpose(matrix)#这段代码使用了 NumPy 库的 transpose 函数来对矩阵进行转置。转置是一种基本的矩阵操作，它将矩阵的行变为列，将列变为行。\n",
    "        matrix = matrix[:, ::-1]\n",
    "        matrix = matrix.tolist()\n",
    "        return matrix\n",
    "    \n",
    "if __name__ == \"__main__\":\n",
    "    matrix = [[1,2,3],[4,5,6],[7,8,9]]\n",
    "    solution = Solution()\n",
    "    result = solution.rotate(matrix)\n",
    "    print(result)  # 输出: [[7,4,1],[8,5,2],[9,6,3]]"
   ]
  },
  {
   "cell_type": "markdown",
   "metadata": {},
   "source": [
    "matrix[:, ::-1] 表示对 matrix 进行操作，: 表示选取所有行，::-1 表示将每一行的元素顺序反转。\n",
    "这段代码使用了 NumPy 库的 transpose 函数来对矩阵进行转置。转置是一种基本的矩阵操作，它将矩阵的行变为列，将列变为行。\n",
    "这个没有使用到原地算法，故删除"
   ]
  },
  {
   "cell_type": "code",
   "execution_count": 4,
   "metadata": {},
   "outputs": [
    {
     "name": "stdout",
     "output_type": "stream",
     "text": [
      "[[7, 4, 1], [8, 5, 2], [9, 6, 3]]\n"
     ]
    }
   ],
   "source": [
    "from typing import List\n",
    "\n",
    "class Solution:\n",
    "    def rotate(self, matrix: List[List[int]]) -> None:\n",
    "        \"\"\"\n",
    "        Do not return anything, modify matrix in-place instead.\n",
    "        \"\"\"\n",
    "        # 先对矩阵进行转置\n",
    "        for i in range(len(matrix)):\n",
    "            for j in range(i, len(matrix)):\n",
    "                matrix[j][i], matrix[i][j] = matrix[i][j], matrix[j][i]\n",
    "        \n",
    "        # 然后每一行进行反转\n",
    "        for i in range(len(matrix)):\n",
    "            matrix[i] = matrix[i][::-1]\n",
    "\n",
    "    \n",
    "if __name__ == \"__main__\":\n",
    "    matrix = [[1,2,3],[4,5,6],[7,8,9]]\n",
    "    solution = Solution()\n",
    "    result = solution.rotate(matrix)\n",
    "    print(matrix)  # 输出: [[7,4,1],[8,5,2],[9,6,3]]"
   ]
  },
  {
   "cell_type": "markdown",
   "metadata": {},
   "source": [
    "# 73. 矩阵置零"
   ]
  },
  {
   "cell_type": "code",
   "execution_count": 10,
   "metadata": {},
   "outputs": [],
   "source": [
    "from typing import List\n",
    "\n",
    "class Solution:\n",
    "    def setZeroes(self, matrix: List[List[int]]) -> None:\n",
    "        m, n = len(matrix), len(matrix[0])\n",
    "        row, col = [False] * m, [False] * n\n",
    "\n",
    "        for i in range(m):\n",
    "            for j in range(n):\n",
    "                if matrix[i][j] == 0:\n",
    "                    row[i] = col[j] = True\n",
    "        \n",
    "        for i in range(m):\n",
    "           for j in range(n):\n",
    "                if row[i] or col[j]:\n",
    "                    matrix[i][j] = 0\n",
    " \n",
    " \n",
    "if __name__ == \"__main__\":\n",
    "    matrix = [[1,1,1],[1,0,1],[1,1,1]]\n",
    "    solution = Solution()\n",
    "    solution.setZeroes(matrix)\n",
    "    print(matrix)  # 输出: [[1,0,1],[0,0,0],[1,0,1]]\n"
   ]
  },
  {
   "cell_type": "markdown",
   "metadata": {},
   "source": [
    "# 20. 有效的括号"
   ]
  },
  {
   "cell_type": "code",
   "execution_count": 4,
   "metadata": {},
   "outputs": [],
   "source": [
    "class Solution(object):\n",
    "    def isValid(self, s):\n",
    "        \"\"\"\n",
    "        :type s: str\n",
    "        :rtype: bool\n",
    "        \"\"\"\n",
    "        if len(s) % 2 == 1:\n",
    "            return False\n",
    "        \n",
    "        pairs = {\n",
    "            \")\": \"(\",\n",
    "            \"]\": \"[\",\n",
    "            \"}\": \"{\",\n",
    "        }#这段代码定义了一个名为 pairs 的字典，它用于存储一组配对的括号。在这个字典中，每个键都是一个右括号，每个值都是与之匹配的左括号。这样的数据结构通常用于处理括号匹配问题，例如检查一个包含括号的字符串是否正确地匹配了所有的括号。\n",
    "        stack = list()\n",
    "        for ch in s:\n",
    "            if ch in pairs:\n",
    "                if not stack or stack[-1] != pairs[ch]:\n",
    "                    return False\n",
    "                stack.pop()\n",
    "            else:\n",
    "                stack.append(ch)\n",
    "        \n",
    "        return not stack\n"
   ]
  },
  {
   "cell_type": "markdown",
   "metadata": {},
   "source": [
    "# 94. 二叉树的中序遍历"
   ]
  },
  {
   "cell_type": "code",
   "execution_count": null,
   "metadata": {},
   "outputs": [],
   "source": [
    "class TreeNode:\n",
    "    def __init__(self, x):\n",
    "        self.val = x\n",
    "        self.left = None\n",
    "        self.right = None\n",
    "\n",
    "class Solution:\n",
    "    def inorderTraversal(self, root):\n",
    "        if root is None:\n",
    "            return []\n",
    "        return self.inorderTraversal(root.left) + [root.val] + self.inorderTraversal(root.right)"
   ]
  },
  {
   "cell_type": "code",
   "execution_count": 1,
   "metadata": {},
   "outputs": [
    {
     "name": "stdout",
     "output_type": "stream",
     "text": [
      "前序遍历结果:\n",
      "1 2 4 5 3 \n",
      "中序遍历结果:\n",
      "4 2 5 1 3 \n",
      "后序遍历结果:\n",
      "4 5 2 3 1 "
     ]
    }
   ],
   "source": [
    "class TreeNode:\n",
    "    def __init__(self, val=0, left=None, right=None):\n",
    "        self.val = val\n",
    "        self.left = left\n",
    "        self.right = right\n",
    "\n",
    "def preorder_traversal(root):\n",
    "    if root:\n",
    "        print(root.val, end=' ')  # 访问根节点\n",
    "        preorder_traversal(root.left)  # 前序遍历左子树\n",
    "        preorder_traversal(root.right)  # 前序遍历右子树\n",
    "\n",
    "def inorder_traversal(root):\n",
    "    if root:\n",
    "        inorder_traversal(root.left)  # 中序遍历左子树\n",
    "        print(root.val, end=' ')  # 访问根节点\n",
    "        inorder_traversal(root.right)  # 中序遍历右子树\n",
    "\n",
    "def postorder_traversal(root):\n",
    "    if root:\n",
    "        postorder_traversal(root.left)  # 后序遍历左子树\n",
    "        postorder_traversal(root.right)  # 后序遍历右子树\n",
    "        print(root.val, end=' ')  # 访问根节点\n",
    "\n",
    "# 构建示例二叉树\n",
    "#       1\n",
    "#      / \\\n",
    "#     2   3\n",
    "#    / \\\n",
    "#   4   5\n",
    "\n",
    "root = TreeNode(1)\n",
    "root.left = TreeNode(2)\n",
    "root.right = TreeNode(3)\n",
    "root.left.left = TreeNode(4)\n",
    "root.left.right = TreeNode(5)\n",
    "\n",
    "print(\"前序遍历结果:\")\n",
    "preorder_traversal(root)  # 1 2 4 5 3\n",
    "print(\"\\n中序遍历结果:\")\n",
    "inorder_traversal(root)  # 4 2 5 1 3\n",
    "print(\"\\n后序遍历结果:\")\n",
    "postorder_traversal(root)  # 4 5 2 3 1\n"
   ]
  },
  {
   "cell_type": "code",
   "execution_count": 3,
   "metadata": {},
   "outputs": [
    {
     "name": "stdout",
     "output_type": "stream",
     "text": [
      "[4, 2, 5, 1, 3]\n"
     ]
    }
   ],
   "source": [
    "class Solution(object):\n",
    "    def inorderTraversal(self, root):\n",
    "        \"\"\"\n",
    "        :type root: TreeNode\n",
    "        :rtype: List[int]\n",
    "        \"\"\"\n",
    "        if root == None:  #避免特解\n",
    "            return []\n",
    "        self.ans = []\n",
    "        self.findTheTree(root)\n",
    "        return self.ans\n",
    "\n",
    "    def findTheTree(self, treeNode):\n",
    "        if treeNode.left != None:\n",
    "            self.findTheTree(treeNode.left)\n",
    "        self.ans.append(treeNode.val)\n",
    "        if treeNode.right != None:\n",
    "            self.findTheTree(treeNode.right)\n",
    "root = TreeNode(1)\n",
    "root.left = TreeNode(2)\n",
    "root.right = TreeNode(3)\n",
    "root.left.left = TreeNode(4)\n",
    "root.left.right = TreeNode(5)\n",
    "solution = Solution()\n",
    "print(solution.inorderTraversal(root))  # 输出: [4, 2, 5, 1, 3]"
   ]
  },
  {
   "cell_type": "markdown",
   "metadata": {},
   "source": [
    "前序遍历：打印 - 左 - 右\n",
    "中序遍历：左 - 打印 - 右\n",
    "后序遍历：左 - 右 - 打印\n"
   ]
  },
  {
   "cell_type": "markdown",
   "metadata": {},
   "source": [
    "# 402. 移掉 K 位数字"
   ]
  },
  {
   "cell_type": "code",
   "execution_count": 1,
   "metadata": {},
   "outputs": [
    {
     "name": "stdout",
     "output_type": "stream",
     "text": [
      "1219\n"
     ]
    }
   ],
   "source": [
    "class Solution(object):\n",
    "    def removeKdigits(self, num, k):\n",
    "        stack = []\n",
    "        remain = len(num) - k\n",
    "        for digit in num:\n",
    "            while k and stack and stack[-1] > digit:\n",
    "                stack.pop()\n",
    "                k -= 1\n",
    "            stack.append(digit)\n",
    "        return ''.join(stack[:remain]).lstrip('0') or '0'\n",
    "\n",
    "if __name__ == \"__main__\":\n",
    "    num = \"1432219\"\n",
    "    k = 3\n",
    "    solution = Solution()\n",
    "    result = solution.removeKdigits(num, k)\n",
    "    print(result)  # 输出: \"1219\""
   ]
  },
  {
   "cell_type": "markdown",
   "metadata": {},
   "source": [
    "1. 栈(Stack)是一种后进先出（LIFO，Last In First Out）的数据结构。\n",
    "    1.1. 栈顶（Top of the Stack）是栈这种数据结构中的一个重要概念，它指的是栈中最后被压入的元素\n",
    "    当我们使用列表来实现栈时，列表的末尾就成为栈顶，这是因为新元素总是添加到列表的末尾，移除元素时也是从列表的末尾移除。所以使用-1调用栈顶元素\n",
    "\n",
    "2. 堆(Heap)是一种用于动态分配内存的数据结构，内存可以在运行时按需分配和释放。"
   ]
  },
  {
   "cell_type": "markdown",
   "metadata": {},
   "source": [
    "## 字典"
   ]
  },
  {
   "cell_type": "markdown",
   "metadata": {},
   "source": [
    "Python 中的字典（dictionary）是一种用于存储键值对（key-value pairs）的数据结构，它允许你快速查找、插入、删除和更新数据。字典使用大括号 {} 表示，键和值之间用冒号 : 分隔，键值对之间用逗号 , 分隔。"
   ]
  },
  {
   "cell_type": "markdown",
   "metadata": {},
   "source": []
  },
  {
   "cell_type": "markdown",
   "metadata": {},
   "source": [
    "# 316. 去除重复字母"
   ]
  },
  {
   "cell_type": "code",
   "execution_count": 3,
   "metadata": {},
   "outputs": [
    {
     "name": "stdout",
     "output_type": "stream",
     "text": [
      "abc\n"
     ]
    }
   ],
   "source": [
    "\n",
    "import collections\n",
    "class Solution:\n",
    "    def removeDuplicateLetters(self, s):\n",
    "        stack = []\n",
    "        remain_counter = collections.Counter(s)\n",
    "\n",
    "        for c in s:\n",
    "            if c not in stack:\n",
    "                while stack and c < stack[-1] and  remain_counter[stack[-1]] > 0:\n",
    "                    stack.pop()\n",
    "                stack.append(c)\n",
    "            remain_counter[c] -= 1\n",
    "        return ''.join(stack)\n",
    "    \n",
    "if __name__ == \"__main__\":\n",
    "    s = \"bcabc\"\n",
    "    solution = Solution()\n",
    "    result = solution.removeDuplicateLetters(s)\n",
    "    print(result)  # 输出: \"abc\""
   ]
  },
  {
   "cell_type": "markdown",
   "metadata": {},
   "source": [
    "# 387. 字符串中的第一个唯一字符"
   ]
  },
  {
   "cell_type": "code",
   "execution_count": 2,
   "metadata": {},
   "outputs": [
    {
     "name": "stdout",
     "output_type": "stream",
     "text": [
      "0\n"
     ]
    }
   ],
   "source": [
    "import collections\n",
    "class Solution:\n",
    "    def firstUniqChar(self, s: str) -> int:\n",
    "        frequency = collections.Counter(s)\n",
    "        for i, ch in enumerate(s):\n",
    "            if frequency[ch] == 1:\n",
    "                return i\n",
    "        return -1\n",
    "if __name__ == \"__main__\":\n",
    "    s = \"leetcode\"\n",
    "    solution = Solution()\n",
    "    result = solution.firstUniqChar(s)\n",
    "    print(result)  # 输出: 0\n",
    "    "
   ]
  },
  {
   "cell_type": "code",
   "execution_count": 7,
   "metadata": {},
   "outputs": [
    {
     "name": "stdout",
     "output_type": "stream",
     "text": [
      "Index: 0, Character: H\n",
      "Index: 1, Character: e\n",
      "Index: 2, Character: l\n",
      "Index: 3, Character: l\n",
      "Index: 4, Character: o\n"
     ]
    }
   ],
   "source": [
    "s = \"Hello\"\n",
    "for i, bh in enumerate(s):\n",
    "    print(f\"Index: {i}, Character: {bh}\")"
   ]
  },
  {
   "cell_type": "markdown",
   "metadata": {},
   "source": [
    "# 933. 最近的请求次数"
   ]
  },
  {
   "cell_type": "code",
   "execution_count": 2,
   "metadata": {},
   "outputs": [
    {
     "name": "stdout",
     "output_type": "stream",
     "text": [
      "1\n",
      "2\n",
      "3\n",
      "3\n"
     ]
    }
   ],
   "source": [
    "\n",
    "from collections import deque\n",
    "\n",
    "\n",
    "class RecentCounter:\n",
    "    def __init__(self):\n",
    "        self.q = deque()\n",
    "\n",
    "    def ping(self, t: int) -> int:\n",
    "        self.q.append(t)\n",
    "        while self.q[0] < t - 3000:\n",
    "            self.q.popleft()\n",
    "        return len(self.q)\n",
    "    \n",
    "if __name__ == \"__main__\":\n",
    "    obj = RecentCounter()\n",
    "    print(obj.ping(1))  # 输出: 1\n",
    "    print(obj.ping(100))  # 输出: 2\n",
    "    print(obj.ping(3001))  # 输出: 3\n",
    "    print(obj.ping(3002))  # 输出: 3\n"
   ]
  },
  {
   "cell_type": "markdown",
   "metadata": {},
   "source": [
    "deque 是 Python 的一个内置模块，它提供了一个双端队列的数据结构。双端队列是一种特殊的队列，可以在队列的两端添加或删除元素。"
   ]
  },
  {
   "cell_type": "markdown",
   "metadata": {},
   "source": [
    "# 215.数组中第K个最大的元素"
   ]
  },
  {
   "cell_type": "code",
   "execution_count": null,
   "metadata": {},
   "outputs": [],
   "source": [
    "import random\n",
    "from typing import List\n",
    "class Solution:\n",
    "    def findKthLargest(self, nums: List[int], k: int) -> int:\n",
    "        \n",
    "        def partition(arr: List[int], low: int, high: int) -> int:\n",
    "            pivot = arr[low]                                        # 选取最左边为pivot\n",
    "\n",
    "            left, right = low, high     # 双指针\n",
    "            while left < right:\n",
    "                \n",
    "                while left<right and arr[right] >= pivot:          # 找到右边第一个<pivot的元素\n",
    "                    right -= 1\n",
    "                arr[left] = arr[right]                             # 并将其移动到left处\n",
    "                \n",
    "                while left<right and arr[left] <= pivot:           # 找到左边第一个>pivot的元素\n",
    "                    left += 1\n",
    "                arr[right] = arr[left]                             # 并将其移动到right处\n",
    "            \n",
    "            arr[left] = pivot           # pivot放置到中间left=right处\n",
    "            return left\n",
    "        \n",
    "        def randomPartition(arr: List[int], low: int, high: int) -> int:\n",
    "            pivot_idx = random.randint(low, high)                   # 随机选择pivot\n",
    "            arr[low], arr[pivot_idx] = arr[pivot_idx], arr[low]     # pivot放置到最左边\n",
    "            return partition(arr, low, high)                        # 调用partition函数\n",
    "\n",
    "        def topKSplit(arr: List[int], low: int, high: int, k: int) -> int:\n",
    "            # mid = partition(arr, low, high)                   # 以mid为分割点【非随机选择pivot】\n",
    "            mid = randomPartition(arr, low, high)               # 以mid为分割点【随机选择pivot】\n",
    "            if mid == k-1:                                      # 第k小元素的下标为k-1\n",
    "                return arr[mid]                                 #【找到即返回】\n",
    "            elif mid < k-1:\n",
    "                return topKSplit(arr, mid+1, high, k)           # 递归对mid右侧元素进行排序\n",
    "            else:\n",
    "                return topKSplit(arr, low, mid-1, k)            # 递归对mid左侧元素进行排序\n",
    "        \n",
    "        n = len(nums)\n",
    "        return topKSplit(nums, 0, n-1, n-k+1)                   # 第k大元素即为第n-k+1小元素\n",
    "\n",
    "if __name__ == \"__main__\":\n",
    "    nums = [3,2,1,5,6,4]\n",
    "    k = 2\n",
    "    solution = Solution()\n",
    "    result = solution.findKthLargest(nums, k)\n",
    "    print(result)  # 输出: 5"
   ]
  },
  {
   "cell_type": "markdown",
   "metadata": {},
   "source": [
    "# 26. 删除有序数组中的重复项\n"
   ]
  },
  {
   "cell_type": "markdown",
   "metadata": {},
   "source": [
    "双指针法"
   ]
  },
  {
   "cell_type": "code",
   "execution_count": 1,
   "metadata": {},
   "outputs": [
    {
     "name": "stdout",
     "output_type": "stream",
     "text": [
      "5\n"
     ]
    }
   ],
   "source": [
    "from typing import List\n",
    "class Solution:\n",
    "    def removeDuplicates(self, nums: List[int]) -> int:\n",
    "        if not nums:\n",
    "            return 0\n",
    "        \n",
    "        n = len(nums)\n",
    "        fast = slow = 1\n",
    "        while fast < n:\n",
    "            if nums[fast] != nums[fast - 1]:\n",
    "                nums[slow] = nums[fast]\n",
    "                slow += 1\n",
    "            fast += 1\n",
    "        \n",
    "        return slow\n",
    "\n",
    "if __name__ == \"__main__\":\n",
    "    nums = [0,0,1,1,1,2,2,3,3,4]\n",
    "    solution = Solution()\n",
    "    result = solution.removeDuplicates(nums)\n",
    "    print(result)  # 输出: 2"
   ]
  },
  {
   "cell_type": "markdown",
   "metadata": {},
   "source": [
    "# 31. 下一个排列"
   ]
  },
  {
   "cell_type": "code",
   "execution_count": 4,
   "metadata": {},
   "outputs": [],
   "source": [
    "from typing import List\n",
    "class Solution:\n",
    "    def nextPermutation(self, nums: List[int]) -> None:\n",
    "        i = len(nums) - 2\n",
    "        while i >= 0 and nums[i] >= nums[i + 1]:\n",
    "            i -= 1\n",
    "        if i >= 0:\n",
    "            j = len(nums) - 1\n",
    "            while j >= 0 and nums[i] >= nums[j]:\n",
    "                j -= 1\n",
    "            nums[i], nums[j] = nums[j], nums[i]\n",
    "        \n",
    "        left, right = i + 1, len(nums) - 1\n",
    "        while left < right:\n",
    "            nums[left], nums[right] = nums[right], nums[left]\n",
    "            left += 1\n",
    "            right -= 1\n",
    "\n",
    "if __name__ == \"__main__\":\n",
    "    nums = [1,2,7,3,4,1]\n",
    "    solution = Solution()\n",
    "    solution.nextPermutation(nums)\n",
    "    print(nums)  # 输出: [1,3,2]\n"
   ]
  },
  {
   "cell_type": "markdown",
   "metadata": {},
   "source": [
    "# 88. 合并两个有序数组"
   ]
  },
  {
   "cell_type": "code",
   "execution_count": 11,
   "metadata": {},
   "outputs": [
    {
     "name": "stdout",
     "output_type": "stream",
     "text": [
      "[1, 2, 2, 3, 5, 6]\n"
     ]
    }
   ],
   "source": [
    "from typing import List\n",
    "class Solution:\n",
    "    def merge(self, nums1: List[int], m: int, nums2: List[int], n: int) -> None:\n",
    "        \"\"\"\n",
    "        Do not return anything, modify nums1 in-place instead.\n",
    "        \"\"\"\n",
    "        nums1[m:] = nums2\n",
    "        nums1.sort()\n",
    "\n",
    "if __name__ == \"__main__\":\n",
    "    nums1 = [1,2,3,0,0,0]\n",
    "    m = 3\n",
    "    nums2 = [2,5,6]\n",
    "    n = 3\n",
    "    solution = Solution()\n",
    "    solution.merge(nums1, m, nums2, n)\n",
    "    print(nums1)  # 输出: [1,2,2,3,5,6]"
   ]
  },
  {
   "cell_type": "markdown",
   "metadata": {},
   "source": [
    "`双指针法`：方法一没有利用数组nums1与nums2已经被排序的性质。为了利用这一性质，我们可以使用双指针方法。这一方法将两个数组看作队列，每次从两个数组头部取出比较小的数字放到结果中。"
   ]
  },
  {
   "cell_type": "code",
   "execution_count": null,
   "metadata": {},
   "outputs": [],
   "source": [
    "class Solution:\n",
    "    def merge(self, nums1: List[int], m: int, nums2: List[int], n: int) -> None:\n",
    "        \"\"\"\n",
    "        Do not return anything, modify nums1 in-place instead.\n",
    "        \"\"\"\n",
    "        sorted = []\n",
    "        p1, p2 = 0, 0\n",
    "        while p1 < m or p2 < n:\n",
    "            if p1 == m:\n",
    "                sorted.append(nums2[p2])\n",
    "                p2 += 1\n",
    "            elif p2 == n:\n",
    "                sorted.append(nums1[p1])\n",
    "                p1 += 1\n",
    "            elif nums1[p1] < nums2[p2]:\n",
    "                sorted.append(nums1[p1])\n",
    "                p1 += 1\n",
    "            else:\n",
    "                sorted.append(nums2[p2])\n",
    "                p2 += 1\n",
    "        nums1[:] = sorted\n"
   ]
  },
  {
   "cell_type": "markdown",
   "metadata": {},
   "source": [
    "# 2. 两数相加"
   ]
  },
  {
   "cell_type": "code",
   "execution_count": 6,
   "metadata": {},
   "outputs": [
    {
     "name": "stdout",
     "output_type": "stream",
     "text": [
      "7 0 8 "
     ]
    }
   ],
   "source": [
    "from typing import List, Optional\n",
    "\n",
    "class ListNode:\n",
    "    def __init__(self, val=0, next=None):\n",
    "        self.val = val\n",
    "        self.next = next\n",
    "\n",
    "class Solution:\n",
    "    # l1 和 l2 为当前遍历的节点，carry 为进位\n",
    "    def addTwoNumbers(self, l1: Optional[ListNode], l2: Optional[ListNode], carry=0) -> Optional[ListNode]:\n",
    "        if l1 is None and l2 is None:  # 递归边界：l1 和 l2 都是空节点\n",
    "            return ListNode(carry) if carry else None  # 如果进位了，就额外创建一个节点\n",
    "        if l1 is None:  # 如果 l1 是空的，那么此时 l2 一定不是空节点\n",
    "            l1, l2 = l2, l1  # 交换 l1 与 l2，保证 l1 非空，从而简化代码\n",
    "        carry += l1.val + (l2.val if l2 else 0)  # 节点值和进位加在一起\n",
    "        l1.val = carry % 10  # 每个节点保存一个数位\n",
    "        l1.next = self.addTwoNumbers(l1.next, l2.next if l2 else None, carry // 10)  # 进位\n",
    "        return l1\n",
    "\n",
    "if __name__ == \"__main__\":\n",
    "    l1 = ListNode(2)\n",
    "    l1.next = ListNode(4)\n",
    "    l1.next.next = ListNode(3)\n",
    "    l2 = ListNode(5)\n",
    "    l2.next = ListNode(6)\n",
    "    l2.next.next = ListNode(4)\n",
    "    solution = Solution()\n",
    "    result = solution.addTwoNumbers(l1, l2)\n",
    "    while result:\n",
    "        print(result.val, end=\" \")\n",
    "        result = result.next\n"
   ]
  },
  {
   "cell_type": "markdown",
   "metadata": {},
   "source": [
    "方法二：迭代"
   ]
  },
  {
   "cell_type": "code",
   "execution_count": 1,
   "metadata": {},
   "outputs": [
    {
     "name": "stdout",
     "output_type": "stream",
     "text": [
      "7 0 8 "
     ]
    }
   ],
   "source": [
    "from typing import List, Optional\n",
    "\n",
    "class ListNode:\n",
    "    def __init__(self, val=0, next=None):\n",
    "        self.val = val\n",
    "        self.next = next\n",
    "        \n",
    "class Solution:\n",
    "    def addTwoNumbers(self, l1: Optional[ListNode], l2: Optional[ListNode]) -> Optional[ListNode]:\n",
    "        cur = dummy = ListNode()  # 哨兵节点\n",
    "        carry = 0  # 进位\n",
    "        while l1 or l2 or carry:  # 有一个不是空节点，或者还有进位，就继续迭代\n",
    "            carry += (l1.val if l1 else 0) + (l2.val if l2 else 0)  # 节点值和进位加在一起\n",
    "            cur.next = ListNode(carry % 10)  # 每个节点保存一个数位\n",
    "            carry //= 10  # 新的进位\n",
    "            cur = cur.next  # 下一个节点\n",
    "            if l1: l1 = l1.next  # 下一个节点\n",
    "            if l2: l2 = l2.next  # 下一个节点\n",
    "        return dummy.next  # 哨兵节点的下一个节点就是头节点\n",
    "\n",
    "if __name__ == \"__main__\":\n",
    "    l1 = ListNode(2)\n",
    "    l1.next = ListNode(4)\n",
    "    l1.next.next = ListNode(3)\n",
    "    l2 = ListNode(5)\n",
    "    l2.next = ListNode(6)\n",
    "    l2.next.next = ListNode(4)\n",
    "    solution = Solution()\n",
    "    result = solution.addTwoNumbers(l1, l2)\n",
    "    while result:\n",
    "        print(result.val, end=\" \")\n",
    "        result = result.next"
   ]
  },
  {
   "cell_type": "markdown",
   "metadata": {},
   "source": [
    "219. 存在重复元素 II \n",
    "`滑动窗口`"
   ]
  },
  {
   "cell_type": "code",
   "execution_count": 1,
   "metadata": {},
   "outputs": [
    {
     "name": "stdout",
     "output_type": "stream",
     "text": [
      "True\n"
     ]
    }
   ],
   "source": [
    "from typing import List\n",
    "class Solution:\n",
    "    def containsNearbyDuplicate(self, nums: List[int], k: int) -> bool:\n",
    "        pos = {}\n",
    "        for i, num in enumerate(nums):#enumerate(nums) 会返回一个枚举对象，每次迭代都会返回一个包含两个元素的元组，第一个元素是索引，第二个元素是值。\n",
    "            if num in pos and i - pos[num] <= k:\n",
    "                return True\n",
    "            pos[num] = i\n",
    "        return False\n",
    "\n",
    "if __name__ == \"__main__\":\n",
    "    nums = [1,2,3,1]\n",
    "    k = 3\n",
    "    solution = Solution()\n",
    "    result = solution.containsNearbyDuplicate(nums, k)\n",
    "    print(result)  # 输出: True"
   ]
  },
  {
   "cell_type": "code",
   "execution_count": 2,
   "metadata": {},
   "outputs": [
    {
     "name": "stdout",
     "output_type": "stream",
     "text": [
      "True\n"
     ]
    }
   ],
   "source": [
    "from typing import List\n",
    "class Solution:\n",
    "    def containsNearbyDuplicate(self, nums: List[int], k: int) -> bool:\n",
    "        s = set()#在 Python 中，set() 函数是一个内置函数，用于创建一个新的集合对象。如果不提供任何参数，set() 将返回一个空集合。\n",
    "        for i, num in enumerate(nums):\n",
    "            if i > k:\n",
    "                s.remove(nums[i - k - 1])\n",
    "            if num in s:\n",
    "                return True\n",
    "            s.add(num)\n",
    "        return False\n",
    "\n",
    "if __name__ == \"__main__\":\n",
    "    nums = [1,2,3,1]\n",
    "    k = 3\n",
    "    solution = Solution()\n",
    "    result = solution.containsNearbyDuplicate(nums, k)\n",
    "    print(result)  # 输出: True"
   ]
  },
  {
   "cell_type": "code",
   "execution_count": 4,
   "metadata": {},
   "outputs": [
    {
     "data": {
      "text/plain": [
       "{2, 3}"
      ]
     },
     "execution_count": 4,
     "metadata": {},
     "output_type": "execute_result"
    }
   ],
   "source": [
    "s2 = set([2, 2, 3])#在 Python 中，集合（set）是一种数据类型，它是一个无序的、不重复的元素集。集合中的元素可以是任何不可变的数据类型，如整数、浮点数、字符串、元组等。\n",
    "s2#集合在 Python 编程中非常常用，它可以用于去除重复元素，检查元素是否存在，实现数学集合操作等。"
   ]
  },
  {
   "cell_type": "markdown",
   "metadata": {},
   "source": [
    "# 187. 重复的DNA序列"
   ]
  },
  {
   "cell_type": "code",
   "execution_count": 1,
   "metadata": {},
   "outputs": [
    {
     "name": "stdout",
     "output_type": "stream",
     "text": [
      "['AAAAACCCCC', 'CCCCCAAAAA']\n"
     ]
    }
   ],
   "source": [
    "from collections import defaultdict\n",
    "from typing import List\n",
    "L = 10\n",
    "\n",
    "class Solution:\n",
    "    def findRepeatedDnaSequences(self, s: str) -> List[str]:\n",
    "        ans = []\n",
    "        cnt = defaultdict(int)\n",
    "        for i in range(len(s) - L + 1):\n",
    "            sub = s[i : i + L]\n",
    "            cnt[sub] += 1\n",
    "            if cnt[sub] == 2:\n",
    "                ans.append(sub)\n",
    "        return ans\n",
    "\n",
    "if __name__ == \"__main__\":\n",
    "    s = \"AAAAACCCCCAAAAACCCCCCAAAAAGGGTTT\"\n",
    "    solution = Solution()\n",
    "    result = solution.findRepeatedDnaSequences(s)\n",
    "    print(result)  # 输出: [\"AAAAACCCCC\",\"CCCCCAAAAA\"]"
   ]
  },
  {
   "cell_type": "code",
   "execution_count": null,
   "metadata": {},
   "outputs": [],
   "source": [
    "class HashTable:\n",
    "    def __init__(self, size):\n",
    "        self.size = size\n",
    "        self.table = [[] for _ in range(size)]  # 创建一个包含空链表的列表，表示每个桶\n",
    "\n",
    "    def hash_function(self, key):\n",
    "        return hash(key) % self.size  # 使用哈希函数计算桶的索引\n",
    "\n",
    "    def insert(self, key, value):\n",
    "        index = self.hash_function(key)\n",
    "        for kvp in self.table[index]:\n",
    "            if kvp[0] == key:\n",
    "                kvp[1] = value\n",
    "                return\n",
    "        self.table[index].append([key, value])  # 在对应桶中添加键值对\n",
    "\n",
    "    def get(self, key):\n",
    "        index = self.hash_function(key)\n",
    "        for kvp in self.table[index]:\n",
    "            if kvp[0] == key:\n",
    "                return kvp[1]\n",
    "        return None\n",
    "\n",
    "    def delete(self, key):\n",
    "        index = self.hash_function(key)\n",
    "        for i, kvp in enumerate(self.table[index]):\n",
    "            if kvp[0] == key:\n",
    "                del self.table[index][i]\n",
    "                return\n",
    "\n",
    "# 使用示例\n",
    "hash_table = HashTable(10)\n",
    "hash_table.insert(\"name\", \"Alice\")\n",
    "hash_table.insert(\"age\", 30)\n",
    "\n",
    "print(hash_table.get(\"name\"))  # 输出: Alice\n",
    "print(hash_table.get(\"age\"))   # 输出: 30\n",
    "\n",
    "hash_table.delete(\"age\")\n",
    "print(hash_table.get(\"age\"))   # 输出: None"
   ]
  },
  {
   "cell_type": "code",
   "execution_count": 1,
   "metadata": {},
   "outputs": [
    {
     "name": "stdout",
     "output_type": "stream",
     "text": [
      "['AAAAACCCCC', 'CCCCCAAAAA']\n"
     ]
    }
   ],
   "source": [
    "from collections import defaultdict\n",
    "from typing import List\n",
    "L = 10\n",
    "bin = {'A': 0, 'C': 1, 'G': 2, 'T': 3}\n",
    "\n",
    "class Solution:\n",
    "    def findRepeatedDnaSequences(self, s: str) -> List[str]:\n",
    "        n = len(s)\n",
    "        if n <= L:\n",
    "            return []\n",
    "        ans = []\n",
    "        x = 0\n",
    "        for ch in s[:L - 1]:\n",
    "            x = (x << 2) | bin[ch]\n",
    "        cnt = defaultdict(int)\n",
    "        for i in range(n - L + 1):\n",
    "            x = ((x << 2) | bin[s[i + L - 1]]) & ((1 << (L * 2)) - 1)\n",
    "            cnt[x] += 1\n",
    "            if cnt[x] == 2:\n",
    "                ans.append(s[i : i + L])\n",
    "        return ans\n",
    "\n",
    "if __name__ == \"__main__\":\n",
    "    s = \"AAAAACCCCCAAAAACCCCCCAAAAAGGGTTT\"\n",
    "    solution = Solution()\n",
    "    result = solution.findRepeatedDnaSequences(s)\n",
    "    print(result)  # 输出: [\"AAAAACCCCC\",\"CCCCCAAAAA\"]"
   ]
  },
  {
   "cell_type": "markdown",
   "metadata": {},
   "source": [
    "# 24. 两两交换链表中的节点"
   ]
  },
  {
   "cell_type": "markdown",
   "metadata": {},
   "source": []
  },
  {
   "cell_type": "markdown",
   "metadata": {},
   "source": [
    "# 165.比较版本号"
   ]
  },
  {
   "cell_type": "code",
   "execution_count": 5,
   "metadata": {},
   "outputs": [
    {
     "name": "stdout",
     "output_type": "stream",
     "text": [
      "0\n"
     ]
    }
   ],
   "source": [
    "from typing import List\n",
    "class Solution:\n",
    "    def compareVersion(self, version1: str, version2: str) -> int:\n",
    "        m, n = len(version1), len(version2)\n",
    "        i = j = 0\n",
    "        while i < m or j < n:\n",
    "            a = b = 0\n",
    "            while i < m and version1[i] != '.':\n",
    "                a = 10 * a + int(version1[i])\n",
    "                i += 1\n",
    "            while j < n and version2[j] != '.':\n",
    "                b = 10 * b + int(version2[j])\n",
    "                j += 1\n",
    "            if a > b:\n",
    "                return 1\n",
    "            elif a < b:\n",
    "                return -1\n",
    "            i += 1\n",
    "            j += 1\n",
    "        return 0\n",
    "\n",
    "if __name__ == \"__main__\":\n",
    "    version1 = \"1.01\"\n",
    "    version2 = \"1.001\"\n",
    "    solution = Solution()\n",
    "    result = solution.compareVersion(version1, version2)\n",
    "    print(result)  # 输出: 0\n"
   ]
  },
  {
   "cell_type": "markdown",
   "metadata": {},
   "source": [
    "# 125.验证回文串"
   ]
  },
  {
   "cell_type": "markdown",
   "metadata": {},
   "source": [
    "##   如果在将所有大写字符转换为小写字符、并移除所有非字母数字字符之后，短语正着读和反着读都一样。则可以认为该短语是一个 回文串 。"
   ]
  },
  {
   "cell_type": "code",
   "execution_count": 3,
   "metadata": {},
   "outputs": [
    {
     "name": "stdout",
     "output_type": "stream",
     "text": [
      "True\n"
     ]
    }
   ],
   "source": [
    "from typing import List\n",
    "# class Solution:\n",
    "#     def isPalindrome(self, s: str) -> bool:\n",
    "#         left, right = 0, len(s) - 1\n",
    "#         while left < right:\n",
    "#             while left < right and not s[left].isalnum():\n",
    "#                 left += 1\n",
    "#             while left < right and not s[right].isalnum():\n",
    "#                 right -= 1\n",
    "#             if s[left].upper() != s[right].upper():\n",
    "#                 return False\n",
    "#             left += 1\n",
    "#             right -= 1\n",
    "#         return True\n",
    "class Solution:\n",
    "    def isPalindrome(self, s: str) -> bool:\n",
    "\n",
    "        if len(s) == 1:\n",
    "            return True\n",
    "        elif len(s) >= 2:\n",
    "            \n",
    "            # 对输入的字符串进行预处理\n",
    "            s = s.lower()\n",
    "            #这行代码是在处理一个字符串 s，将其转换为只包含字母和数字的新字符串。\n",
    "            s = ''.join(filter(str.isalnum, s))\n",
    "\n",
    "            if len(s) == 2:\n",
    "                if s[0] == s[-1]:\n",
    "                    return True\n",
    "                else:\n",
    "                    return False\n",
    "\n",
    "            length = len(s)\n",
    "            for i in range(length // 2):\n",
    "                if s[i] != s[length - i - 1]:\n",
    "                    return False\n",
    "\n",
    "        return True\n",
    "\n",
    "if __name__ == \"__main__\":\n",
    "    s = \"A man, a plan, a canal: Panama\"\n",
    "    solution = Solution()\n",
    "    result = solution.isPalindrome(s)\n",
    "    print(result)  # 输出: True"
   ]
  },
  {
   "cell_type": "code",
   "execution_count": 8,
   "metadata": {},
   "outputs": [
    {
     "name": "stdout",
     "output_type": "stream",
     "text": [
      "hellomynameispython\n"
     ]
    }
   ],
   "source": [
    "my_str = \"Hello, my name is Python!\"\n",
    "my_str=my_str.lower()\n",
    "result = ''.join(filter(str.isalnum, my_str))\n",
    "print(result)  # 输出: HellomynameisPython"
   ]
  },
  {
   "cell_type": "code",
   "execution_count": null,
   "metadata": {},
   "outputs": [],
   "source": [
    "# 658.找到K个最接近的元素\n",
    "class Solution:\n",
    "    def findClosestElements(self, arr: List[int], k: int, x: int) -> List[int]:\n",
    "        l=len(arr)\n",
    "        result=[]\n",
    "        for _ in range(k):\n",
    "            if \n",
    "            "
   ]
  },
  {
   "cell_type": "markdown",
   "metadata": {},
   "source": [
    "# 100.相同的树"
   ]
  },
  {
   "cell_type": "code",
   "execution_count": 5,
   "metadata": {},
   "outputs": [
    {
     "name": "stdout",
     "output_type": "stream",
     "text": [
      "True\n"
     ]
    }
   ],
   "source": [
    "from typing import List\n",
    "from collections import Counter\n",
    "\n",
    "class TreeNode:\n",
    "    def __init__(self, val=0, left=None, right=None):\n",
    "        self.val = val\n",
    "        self.left = left\n",
    "        self.right = right\n",
    "\n",
    "class Solution:\n",
    "    def isSameTree(self, p, q) -> bool:\n",
    "        if p is None or q is None:\n",
    "            return p is q  # 必须都是 None\n",
    "        return p.val == q.val and self.isSameTree(p.left, q.left) and self.isSameTree(p.right, q.right)\n",
    "\n",
    "if __name__ == \"__main__\":\n",
    "    p = TreeNode(0)\n",
    "    p.left = TreeNode(2)\n",
    "    p.right = TreeNode(3)\n",
    "    q = TreeNode(1)\n",
    "    q.left = TreeNode(2)\n",
    "    q.right = TreeNode(3)\n",
    "    solution = Solution()\n",
    "    result = solution.isSameTree(p, p)\n",
    "    print(result)  # 输出: True"
   ]
  }
 ],
 "metadata": {
  "kernelspec": {
   "display_name": "Python 3",
   "language": "python",
   "name": "python3"
  },
  "language_info": {
   "codemirror_mode": {
    "name": "ipython",
    "version": 3
   },
   "file_extension": ".py",
   "mimetype": "text/x-python",
   "name": "python",
   "nbconvert_exporter": "python",
   "pygments_lexer": "ipython3",
   "version": "3.9.13"
  }
 },
 "nbformat": 4,
 "nbformat_minor": 2
}
