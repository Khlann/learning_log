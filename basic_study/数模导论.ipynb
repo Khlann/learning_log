{
 "cells": [
  {
   "cell_type": "code",
   "execution_count": 2,
   "metadata": {},
   "outputs": [
    {
     "name": "stdout",
     "output_type": "stream",
     "text": [
      "原坐标为: [5 3]\n",
      "旋转后的坐标为: [2.83012702 5.09807621]\n"
     ]
    }
   ],
   "source": [
    "import numpy as np\n",
    "\n",
    "# 设定旋转角度，这里我们以30度为例\n",
    "theta = np.radians(30)  # 将30度转换为弧度\n",
    "\n",
    "# 创建旋转矩阵\n",
    "rotation_matrix = np.array([\n",
    "    [np.cos(theta), -np.sin(theta)],\n",
    "    [np.sin(theta), np.cos(theta)]\n",
    "])\n",
    "\n",
    "# 假设我们有一个点 (a, b)\n",
    "point = np.array([5, 3])\n",
    "\n",
    "# 通过旋转矩阵变换这个点的坐标\n",
    "rotated_point = rotation_matrix.dot(point)\n",
    "\n",
    "print(\"原坐标为:\", point)\n",
    "print(\"旋转后的坐标为:\", rotated_point)\n",
    "# 原坐标为: [5 3]\n",
    "# 旋转后的坐标为: [2.83012702 5.09807621]\n"
   ]
  },
  {
   "cell_type": "code",
   "execution_count": 5,
   "metadata": {},
   "outputs": [
    {
     "name": "stdout",
     "output_type": "stream",
     "text": [
      "旋转后P点的坐标为: [3.39062937 0.11228132 1.57829826]\n"
     ]
    }
   ],
   "source": [
    "import numpy as np\n",
    "\n",
    "# 定义旋转角度（以弧度为单位）\n",
    "alpha = np.radians(30)  # 绕 Z 轴旋转\n",
    "beta = np.radians(45)   # 绕 Y 轴旋转\n",
    "gamma = np.radians(60)  # 绕 X 轴旋转\n",
    "\n",
    "# 定义旋转矩阵\n",
    "R_z = np.array([[np.cos(alpha), -np.sin(alpha), 0],\n",
    "                [np.sin(alpha), np.cos(alpha), 0],\n",
    "                [0, 0, 1]])\n",
    "\n",
    "R_y = np.array([[np.cos(beta), 0, np.sin(beta)],\n",
    "                [0, 1, 0],\n",
    "                [-np.sin(beta), 0, np.cos(beta)]])\n",
    "\n",
    "R_x = np.array([[1, 0, 0],\n",
    "                [0, np.cos(gamma), -np.sin(gamma)],\n",
    "                [0, np.sin(gamma), np.cos(gamma)]])\n",
    "\n",
    "# 总旋转矩阵\n",
    "R = R_z @ R_y @ R_x\n",
    "\n",
    "# 定义点P的坐标\n",
    "P = np.array([1, 2, 3])\n",
    "\n",
    "# 计算旋转后的坐标\n",
    "P_rotated = R @ P\n",
    "\n",
    "print(\"旋转后P点的坐标为:\", P_rotated)\n",
    "# 旋转后P点的坐标为: [3.39062937 0.11228132 1.57829826]\n"
   ]
  },
  {
   "cell_type": "code",
   "execution_count": 9,
   "metadata": {},
   "outputs": [
    {
     "name": "stdout",
     "output_type": "stream",
     "text": [
      "组合旋转矩阵为:\n",
      "[[ 0.61237244 -0.35355339  0.70710678]\n",
      " [ 0.78033009  0.12682648 -0.61237244]\n",
      " [ 0.12682648  0.9267767   0.35355339]]\n"
     ]
    }
   ],
   "source": [
    "import numpy as np\n",
    "\n",
    "# 定义欧拉角（以弧度为单位）\n",
    "alpha = np.radians(30)  # 绕 z 轴的 Yaw 角度\n",
    "beta = np.radians(45)   # 绕 y 轴的 Pitch 角度\n",
    "gamma = np.radians(60)  # 绕 x 轴的 Roll 角度\n",
    "\n",
    "# 构建对应的旋转矩阵\n",
    "R_z = np.array([[np.cos(alpha), -np.sin(alpha), 0],\n",
    "                [np.sin(alpha), np.cos(alpha), 0],\n",
    "                [0, 0, 1]])\n",
    "R_y = np.array([[np.cos(beta), 0, np.sin(beta)],\n",
    "                [0, 1, 0],\n",
    "                [-np.sin(beta), 0, np.cos(beta)]])\n",
    "R_x = np.array([[1, 0, 0],\n",
    "                [0, np.cos(gamma), -np.sin(gamma)],\n",
    "                [0, np.sin(gamma), np.cos(gamma)]])\n",
    "\n",
    "# 总旋转矩阵，注意乘法的顺序\n",
    "R = R_x@ R_y@R_z\n",
    "\n",
    "print(\"组合旋转矩阵为:\")\n",
    "print(R)\n",
    "# 组合旋转矩阵为:\n",
    "# [[ 0.61237244 -0.35355339  0.70710678]\n",
    "#  [ 0.78033009  0.12682648 -0.61237244]\n",
    "#  [ 0.12682648  0.9267767   0.35355339]]\n"
   ]
  },
  {
   "cell_type": "code",
   "execution_count": 10,
   "metadata": {},
   "outputs": [
    {
     "name": "stdout",
     "output_type": "stream",
     "text": [
      "Scaled vector: [ 5 10 15]\n",
      "Transposed matrix:\n",
      " [[1 4 7]\n",
      " [2 5 8]\n",
      " [3 6 9]]\n",
      "Matrix determinant: 0.0\n",
      "Solution of the linear system: [2. 3.]\n"
     ]
    }
   ],
   "source": [
    "import numpy as np\n",
    "# 创建向量\n",
    "vector = np.array([1, 2, 3])\n",
    "# 创建矩阵\n",
    "matrix = np.array([[1, 2, 3],\n",
    "                   [4, 5, 6],\n",
    "                   [7, 8, 9]])\n",
    "# 数量乘法示例\n",
    "scalar = 5\n",
    "scaled_vector = scalar * vector\n",
    "print(\"Scaled vector:\", scaled_vector)\n",
    "# Scaled vector: [ 5 10 15]\n",
    "\n",
    "# 矩阵的转置示例\n",
    "transposed_matrix = matrix.T\n",
    "print(\"Transposed matrix:\\n\", transposed_matrix)\n",
    "# Transposed matrix:\n",
    "# [[1, 4, 7]\n",
    "#  [2, 5, 8]\n",
    "#  [3, 6, 9]]\n",
    "\n",
    "# 计算行列式示例\n",
    "matrix_determinant = np.linalg.det(matrix)\n",
    "print(\"Matrix determinant:\", matrix_determinant)\n",
    "# Matrix determinant: 0.0\n",
    "\n",
    "# 求解线性方程组示例\n",
    "A = np.array([[3, 1], [1, 2]])\n",
    "b = np.array([9, 8])\n",
    "solution = np.linalg.solve(A, b)\n",
    "print(\"Solution of the linear system:\", solution)\n",
    "# Solution of the linear system: [2. 3.]\n"
   ]
  },
  {
   "cell_type": "code",
   "execution_count": 11,
   "metadata": {},
   "outputs": [
    {
     "name": "stdout",
     "output_type": "stream",
     "text": [
      "Pseudo-inverse of the matrix:\n",
      "[[-6.38888889e-01 -1.66666667e-01  3.05555556e-01]\n",
      " [-5.55555556e-02  5.50468329e-17  5.55555556e-02]\n",
      " [ 5.27777778e-01  1.66666667e-01 -1.94444444e-01]]\n"
     ]
    }
   ],
   "source": [
    "import numpy as np\n",
    "# If the matrix is singular, use the pseudo-inverse\n",
    "pseudo_inverse_matrix = np.linalg.pinv(matrix)\n",
    "print(\"Pseudo-inverse of the matrix:\")\n",
    "print(pseudo_inverse_matrix)\n",
    "# Pseudo-inverse of the matrix:\n",
    "# [[-6.38888889e-01 -1.66666667e-01  3.05555556e-01]\n",
    "#  [-5.55555556e-02  4.20756436e-17  5.55555556e-02]\n",
    "#  [ 5.27777778e-01  1.66666667e-01 -1.94444444e-01]]\n"
   ]
  },
  {
   "cell_type": "code",
   "execution_count": 12,
   "metadata": {},
   "outputs": [
    {
     "name": "stdout",
     "output_type": "stream",
     "text": [
      "[ 1.61168440e+01 -1.11684397e+00 -1.30367773e-15]\n",
      "[[-0.23197069 -0.78583024  0.40824829]\n",
      " [-0.52532209 -0.08675134 -0.81649658]\n",
      " [-0.8186735   0.61232756  0.40824829]]\n"
     ]
    }
   ],
   "source": [
    "eigenvalues, eigenvectors = np.linalg.eig(matrix)\n",
    "print(eigenvalues)\n",
    "# [ 1.61168440e+01 -1.11684397e+00 -1.30367773e-15]\n",
    "\n",
    "print(eigenvectors)\n",
    "# [[-0.23197069 -0.78583024  0.40824829]\n",
    "#  [-0.52532209 -0.08675134 -0.81649658]\n",
    "#  [-0.8186735   0.61232756  0.40824829]]\n"
   ]
  },
  {
   "cell_type": "code",
   "execution_count": 13,
   "metadata": {},
   "outputs": [
    {
     "name": "stdout",
     "output_type": "stream",
     "text": [
      "[[-0.21483724  0.88723069  0.40824829]\n",
      " [-0.52058739  0.24964395 -0.81649658]\n",
      " [-0.82633754 -0.38794278  0.40824829]]\n",
      "[1.68481034e+01 1.06836951e+00 4.41842475e-16]\n",
      "[[-0.47967118 -0.57236779 -0.66506441]\n",
      " [-0.77669099 -0.07568647  0.62531805]\n",
      " [-0.40824829  0.81649658 -0.40824829]]\n"
     ]
    }
   ],
   "source": [
    "U, S, V = np.linalg.svd(matrix)\n",
    "print(U)\n",
    "# [[-0.21483724  0.88723069  0.40824829]\n",
    "#  [-0.52058739  0.24964395 -0.81649658]\n",
    "#  [-0.82633754 -0.38794278  0.40824829]]\n",
    "\n",
    "print(S)\n",
    "# [1.68481034e+01 1.06836951e+00 4.41842475e-16]\n",
    "\n",
    "print(V)\n",
    "# [[-0.47967118 -0.57236779 -0.66506441]\n",
    "#  [-0.77669099 -0.07568647  0.62531805]\n",
    "#  [-0.40824829  0.81649658 -0.40824829]]\n"
   ]
  },
  {
   "cell_type": "code",
   "execution_count": 14,
   "metadata": {},
   "outputs": [
    {
     "data": {
      "text/plain": [
       "<Figure size 640x480 with 0 Axes>"
      ]
     },
     "metadata": {},
     "output_type": "display_data"
    },
    {
     "name": "stdout",
     "output_type": "stream",
     "text": [
      "max_fitness: 3751.3699936259486\n",
      "最优的基因型： [1 1 1 1 1 1 1 0 1 1 1 0 0 0 1 0 1 0 1 1 1 0 1 1 0 0 0 0 0 0 1 0 1 1 0 1 1\n",
      " 0 0 1 1 1 1 0 0 0 0 1]\n",
      "(x, y): (2.030170897374803, -2.002382565640364)\n",
      "3751.3699936259486\n"
     ]
    }
   ],
   "source": [
    "import numpy as np\n",
    "import matplotlib.pyplot as plt\n",
    "from matplotlib import cm\n",
    "from mpl_toolkits.mplot3d import Axes3D\n",
    "\n",
    "DNA_SIZE = 24\n",
    "POP_SIZE = 80\n",
    "CROSSOVER_RATE = 0.6\n",
    "MUTATION_RATE = 0.01\n",
    "N_GENERATIONS = 100\n",
    "X_BOUND = [-2.048, 2.048]\n",
    "Y_BOUND = [-2.048, 2.048]\n",
    "def F(x, y):\n",
    "    return 100.0 * (y - x ** 2.0) ** 2.0 + (1 - x) ** 2.0  # 以香蕉函数为例\n",
    "def plot_3d(ax):\n",
    "    X = np.linspace(*X_BOUND, 100)\n",
    "    Y = np.linspace(*Y_BOUND, 100)\n",
    "    X, Y = np.meshgrid(X, Y)\n",
    "    Z = F(X, Y)\n",
    "    ax.plot_surface(X, Y, Z, rstride=1, cstride=1, cmap=cm.coolwarm)\n",
    "    ax.set_xlabel('x')\n",
    "    ax.set_ylabel('y')\n",
    "    ax.set_zlabel('z')\n",
    "    plt.pause(3)\n",
    "    plt.show()\n",
    "def get_fitness(pop):\n",
    "    x, y = translateDNA(pop)\n",
    "    pred = F(x, y)\n",
    "    return pred\n",
    "    # return pred - np.min(pred)+1e-3  # 求最大值时的适应度\n",
    "    # return np.max(pred) - pred + 1e-3  # 求最小值时的适应度，通过这一步fitness的范围为[0, np.max(pred)-np.min(pred)]\n",
    "def translateDNA(pop):  # pop表示种群矩阵，一行表示一个二进制编码表示的DNA，矩阵的行数为种群数目\n",
    "    x_pop = pop[:, 0:DNA_SIZE]  # 前DNA_SIZE位表示X\n",
    "    y_pop = pop[:, DNA_SIZE:]  # 后DNA_SIZE位表示Y\n",
    "    x = x_pop.dot(2 ** np.arange(DNA_SIZE)[::-1]) / float(2 ** DNA_SIZE - 1) * (X_BOUND[1] - X_BOUND[0]) + X_BOUND[0]\n",
    "    y = y_pop.dot(2 ** np.arange(DNA_SIZE)[::-1]) / float(2 ** DNA_SIZE - 1) * (Y_BOUND[1] - Y_BOUND[0]) + Y_BOUND[0]\n",
    "    return x, y\n",
    "def crossover_and_mutation(pop, CROSSOVER_RATE=0.8):\n",
    "    new_pop = []\n",
    "    for father in pop:  # 遍历种群中的每一个个体，将该个体作为父亲\n",
    "        child = father  # 孩子先得到父亲的全部基因（这里我把一串二进制串的那些0，1称为基因）\n",
    "        if np.random.rand() < CROSSOVER_RATE:  # 产生子代时不是必然发生交叉，而是以一定的概率发生交叉\n",
    "            mother = pop[np.random.randint(POP_SIZE)]  # 再种群中选择另一个个体，并将该个体作为母亲\n",
    "            cross_points = np.random.randint(low=0, high=DNA_SIZE * 2)  # 随机产生交叉的点\n",
    "            child[cross_points:] = mother[cross_points:]  # 孩子得到位于交叉点后的母亲的基因\n",
    "        mutation(child)  # 每个后代有一定的机率发生变异\n",
    "        new_pop.append(child)\n",
    "    return new_pop\n",
    "def mutation(child, MUTATION_RATE=0.003):\n",
    "    if np.random.rand() < MUTATION_RATE:  # 以MUTATION_RATE的概率进行变异\n",
    "        mutate_point = np.random.randint(0, DNA_SIZE)  # 随机产生一个实数，代表要变异基因的位置\n",
    "        child[mutate_point] = child[mutate_point] ^ 1  # 将变异点的二进制为反转\n",
    "def select(pop, fitness):  # nature selection wrt pop's fitness\n",
    "    idx = np.random.choice(np.arange(POP_SIZE), size=POP_SIZE, replace=True,\n",
    "                           p=(fitness) / (fitness.sum()))\n",
    "    return pop[idx]\n",
    "def print_info(pop):\n",
    "    fitness = get_fitness(pop)\n",
    "    max_fitness_index = np.argmax(fitness)\n",
    "    print(\"max_fitness:\", fitness[max_fitness_index])\n",
    "    x, y = translateDNA(pop)\n",
    "    print(\"最优的基因型：\", pop[max_fitness_index])\n",
    "    print(\"(x, y):\", (x[max_fitness_index], y[max_fitness_index]))\n",
    "    print(F(x[max_fitness_index], y[max_fitness_index]))\n",
    "if __name__ == \"__main__\":\n",
    "    fig = plt.figure()\n",
    "    ax = Axes3D(fig)\n",
    "    plot_3d(ax)\n",
    "    pop = np.random.randint(2, size=(POP_SIZE, DNA_SIZE * 2))  # matrix (POP_SIZE, DNA_SIZE)\n",
    "    for _ in range(N_GENERATIONS):  # 迭代N代\n",
    "        x, y = translateDNA(pop)\n",
    "        if 'sca' in locals():\n",
    "            sca.remove()\n",
    "        sca = ax.scatter(x, y, F(x, y), c='black', marker='o')\n",
    "        plt.show()\n",
    "        plt.pause(0.1)\n",
    "        pop = np.array(crossover_and_mutation(pop, CROSSOVER_RATE))\n",
    "        fitness = get_fitness(pop)\n",
    "        pop = select(pop, fitness)  # 选择生成新的种群\n",
    "    print_info(pop)\n",
    "    plot_3d(ax)\n"
   ]
  },
  {
   "cell_type": "code",
   "execution_count": 6,
   "metadata": {},
   "outputs": [
    {
     "name": "stdout",
     "output_type": "stream",
     "text": [
      "x0=4.00\n",
      "x1=0.00\n",
      "x2=1.00\n",
      "x3=0.00\n",
      "objective is 20.00\n"
     ]
    }
   ],
   "source": [
    "import numpy as np\n",
    "def pivot(d,bn):\n",
    "    l = list(d[0][:-2])\n",
    "    jnum = l.index(max(l)) #转入编号\n",
    "    m = []\n",
    "    for i in range(bn):\n",
    "        if d[i][jnum] == 0:\n",
    "            m.append(0.)\n",
    "        else:\n",
    "            m.append(d[i][-1]/d[i][jnum])\n",
    "    inum = m.index(min([x for x in m[1:] if x!=0]))  #转出下标\n",
    "# 这行代码的主要目的是找到列表 m 中第一个非零最小值的索引，并将其赋值给变量 inum。\n",
    "    s[inum-1] = jnum\n",
    "    r = d[inum][jnum]\n",
    "    d[inum] /= r\n",
    "    for i in [x for x in range(bn) if x !=inum]:\n",
    "        r = d[i][jnum]\n",
    "        d[i] -= r * d[inum]  \n",
    "#定义基变量函数\n",
    "def solve(d,bn):\n",
    "    flag = True\n",
    "    while flag:\n",
    "        if max(list(d[0][:-1])) <= 0: #直至所有系数小于等于0\n",
    "            flag = False\n",
    "        else:\n",
    "            pivot(d,bn)            \n",
    "def printSol(d,cn):\n",
    "    for i in range(cn - 1):\n",
    "        if i in s:\n",
    "            print(\"x\"+str(i)+\"=%.2f\" % d[s.index(i)+1][-1])\n",
    "        else:\n",
    "            print(\"x\"+str(i)+\"=0.00\")\n",
    "    print(\"objective is %.2f\"%(-d[0][-1]))\n",
    "d = np.array([[5,1,0,0,0],[1,1,1,0,5],[2,1/2,0,1,8]])\n",
    "(bn,cn) = d.shape\n",
    "s = list(range(cn-bn,cn-1)) #基变量列表\n",
    "solve(d,bn)\n",
    "printSol(d,cn)\n"
   ]
  },
  {
   "cell_type": "code",
   "execution_count": 2,
   "metadata": {},
   "outputs": [
    {
     "data": {
      "text/plain": [
       "[2, 3]"
      ]
     },
     "execution_count": 2,
     "metadata": {},
     "output_type": "execute_result"
    }
   ],
   "source": [
    "s=list(range(2,4)) #基变量列表\n",
    "s"
   ]
  },
  {
   "cell_type": "code",
   "execution_count": 9,
   "metadata": {},
   "outputs": [
    {
     "name": "stdout",
     "output_type": "stream",
     "text": [
      "-----------------step 1 -----------------\n",
      "x的取值 [1.99   1.0225 0.8425 0.9325]\n",
      "v的取值 [1.1575 1.0675]\n",
      "lam的取值 [0.01   0.9775 1.1575 1.0675]\n",
      "mu的取值 0.07475078125\n",
      "alpha的取值 0.4275\n",
      "值为 -10.9725\n",
      "-----------------step 2 -----------------\n",
      "x的取值 [3.20879395 0.6297997  0.60221202 0.009325  ]\n",
      "v的取值 [0.94082119 1.61918231]\n",
      "lam的取值 [0.01797731 0.89021093 0.94082119 1.61918231]\n",
      "mu的取值 0.03000031931764016\n",
      "alpha的取值 0.5116206718282758\n",
      "值为 -16.67376946490082\n",
      "-----------------step 3 -----------------\n",
      "x的取值 [3.85861428 0.49249655 0.63858577 0.0133405 ]\n",
      "v的取值 [0.00940821 2.49050221]\n",
      "lam的取值 [0.00586775 0.25723517 0.00940821 2.49050221]\n",
      "mu的取值 0.004714032760468827\n",
      "alpha的取值 0.9815745444216849\n",
      "值为 -19.78556794032732\n",
      "-----------------step 4 -----------------\n",
      "x的取值 [3.99200059e+00 2.83066232e-02 9.79692788e-01 1.84551131e-03]\n",
      "v的取值 [2.35649726e-03 2.49933118e+00]\n",
      "lam的取值 [1.01885150e-03 2.52022086e-01 2.35649726e-03 2.49933118e+00]\n",
      "mu的取值 0.0004530584332237969\n",
      "alpha的取值 1\n",
      "值为 -19.988309565940718\n",
      "-----------------step 5 -----------------\n",
      "x的取值 [3.99941292e+00 1.98655147e-03 9.98600532e-01 1.80890752e-04]\n",
      "v的取值 [4.16969883e-04 2.49984731e+00]\n",
      "lam的取值 [1.11599776e-04 2.50340627e-01 4.16969883e-04 2.49984731e+00]\n",
      "mu的取值 4.530584332237962e-05\n",
      "alpha的取值 1\n",
      "值为 -19.999051135254355\n",
      "-----------------step 6 -----------------\n",
      "x的取值 [3.99994510e+00 1.83390500e-04 9.99871514e-01 1.81136088e-05]\n",
      "v的取值 [4.48386323e-05 2.49998324e+00]\n",
      "lam的取值 [1.13132735e-05 2.50036457e-01 4.48386323e-05 2.49998324e+00]\n",
      "mu的取值 4.5305843322379745e-06\n",
      "alpha的取值 1\n",
      "值为 -19.999908868353113\n",
      "-----------------step 7 -----------------\n",
      "x的取值 [3.99999456e+00 1.81437374e-05 9.99987298e-01 1.81213672e-06]\n",
      "v的取值 [4.52597425e-06 2.49999830e+00]\n",
      "lam的取值 [1.13252173e-06 2.50003678e-01 4.52597425e-06 2.49999830e+00]\n",
      "mu的取值 4.5305843322379933e-07\n",
      "alpha的取值 1\n",
      "值为 -19.99999093372385\n",
      "-----------------step 8 -----------------\n",
      "x的取值 [3.99999946e+00 1.81244726e-06 9.99998731e-01 1.81222390e-07]\n",
      "v的取值 [4.53012442e-07 2.49999983e+00]\n",
      "lam的取值 [1.13263376e-07 2.50000368e-01 4.53012442e-07 2.49999983e+00]\n",
      "mu的取值 4.53058433223799e-08\n",
      "alpha的取值 1\n",
      "值为 -19.99999909383221\n",
      "-----------------step 9 -----------------\n",
      "x的取值 [3.99999995e+00 1.81225508e-07 9.99999873e-01 1.81223275e-08]\n",
      "v的取值 [4.53053835e-08 2.49999998e+00]\n",
      "lam的取值 [1.13264485e-08 2.50000037e-01 4.53053835e-08 2.49999998e+00]\n",
      "mu的取值 4.530584332237986e-09\n",
      "alpha的取值 1\n",
      "值为 -19.999999909387807\n",
      "-----------------step 10 -----------------\n",
      "x的取值 [3.99999999e+00 1.81223587e-08 9.99999987e-01 1.81223363e-09]\n",
      "v的取值 [4.53057973e-09 2.50000000e+00]\n",
      "lam的取值 [1.13264596e-09 2.50000004e-01 4.53057973e-09 2.50000000e+00]\n",
      "mu的取值 4.530584332237994e-10\n",
      "alpha的取值 1\n",
      "值为 -19.999999990938825\n",
      "##########################找到最优点##########################\n",
      "x的取值 [3.99999999e+00 1.81223587e-08 9.99999987e-01 1.81223363e-09]\n",
      "最优值为 -19.999999990938825\n"
     ]
    }
   ],
   "source": [
    "import numpy as np\n",
    "def Interior_Point(c,A,b):\n",
    "\n",
    "    # 当输入的c,A,b有缺失值时，输出错误原因，函数执行结束\n",
    "\n",
    "    if c.shape[0] != A.shape[1]:\n",
    "        print(\"A和C形状不匹配\")\n",
    "        return 0\n",
    "    if b.shape[0] != A.shape[0]:\n",
    "        print(\"A和b形状不匹配\")\n",
    "        return 0\n",
    "\n",
    "    # 初值的设置\n",
    "\n",
    "    x=np.ones((A.shape[1],1)) # 将x的初值设为1\n",
    "    v=np.ones((b.shape[0],1))  # 将v的初值设为1\n",
    "    lam=np.ones((x.shape[0],1))  # 将lam的初值设为1\n",
    "    one=np.ones((x.shape[0],1))\n",
    "    mu=1 # 将mu的初值设为1\n",
    "    n=A.shape[1]\n",
    "    x_=np.diag(x.flatten()) # 将x转换为对角矩阵\n",
    "    lam_=np.diag(lam.flatten()) # 将lam转换为对角矩阵\n",
    "\n",
    "    # 初始的F，r=F\n",
    "\n",
    "    r1=np.matmul(A,x)-b\n",
    "    r2=np.matmul(np.matmul(x_,lam_),one)-mu*one\n",
    "    r3=np.matmul(A.T,v)+c-lam\n",
    "    r=np.vstack((r1,r2,r3))\n",
    "    F=r\n",
    "\n",
    "    # 求得r1、r2、r3的初始范数\n",
    "\n",
    "    n1=np.linalg.norm(r1)\n",
    "    n2=np.linalg.norm(r2)\n",
    "    n3=np.linalg.norm(r3)\n",
    "\n",
    "    # nablaF中零矩阵和单位阵的设置\n",
    "\n",
    "    zero11=np.zeros((A.shape[0],x.shape[0]))\n",
    "    zero12=np.zeros((A.shape[0],A.shape[0]))\n",
    "    zero22=np.zeros((x.shape[0],A.shape[0]))\n",
    "    zero33=np.zeros((A.shape[1],A.shape[1]))\n",
    "    one31=np.eye(A.shape[1])\n",
    "    tol=1e-8 # 设置最优条件的容忍度\n",
    "    t=1\n",
    "    alpha = 0.5\n",
    "    while max(n1,n2,n3)>tol:\n",
    "        print(\"-----------------step\",t,\"-----------------\")\n",
    "\n",
    "        # F的Jacobian矩阵\n",
    "\n",
    "        nablaF = np.vstack((np.hstack((zero11, zero12, A))\n",
    "                            , np.hstack((x_, zero22, lam_))\n",
    "                            , np.hstack((-one31, A.T, zero33))))\n",
    "\n",
    "        # F+nablaF@delta=0,解方程nablaF@delta=-r\n",
    "\n",
    "        delta = np.linalg.solve(nablaF, -r)  # 解方程，求出delta的值\n",
    "        delta_lam = delta[0:lam.shape[0], :]\n",
    "        delta_v = delta[lam.shape[0]:lam.shape[0] + v.shape[0], :]\n",
    "        delta_x = delta[lam.shape[0] + v.shape[0]:, :]\n",
    "\n",
    "        # 更新lam、v、x、mu\n",
    "\n",
    "        alpha=Alpha(c,A,b,lam,v,x,alpha,delta_lam,delta_v,delta_x)\n",
    "        lam=lam+alpha*delta_lam\n",
    "        v=v+alpha*delta_v\n",
    "        x=x+alpha*delta_x\n",
    "        x_ = np.diag(x.flatten())  # 将x转换为对角矩阵\n",
    "        lam_ = np.diag(lam.flatten())  # 将lam转换为对角矩阵\n",
    "        mu=(0.1/n)*np.dot(lam.flatten(),x.flatten()) #更新mu的值\n",
    "\n",
    "        # 计算更新后的F\n",
    "\n",
    "        r1 = np.matmul(A, x) - b\n",
    "        r2 = np.matmul(np.matmul(x_, lam_), one) - mu * one\n",
    "        r3 = np.matmul(A.T, v) + c - lam\n",
    "        r = np.vstack((r1, r2, r3))\n",
    "        F = r\n",
    "\n",
    "        # 计算更新后F的范数\n",
    "\n",
    "        n1 = np.linalg.norm(r1)\n",
    "        n2 = np.linalg.norm(r2)\n",
    "        n3 = np.linalg.norm(r3)\n",
    "        t=t+1\n",
    "        print(\"x的取值\",x.flatten())\n",
    "        print(\"v的取值\",v.flatten())\n",
    "        print(\"lam的取值\",lam.flatten())\n",
    "        print(\"mu的取值\",mu)\n",
    "        print(\"alpha的取值\",alpha)\n",
    "        z=(c.T @ x).flatten()[0]\n",
    "        print(\"值为\",z)\n",
    "    print(\"##########################找到最优点##########################\")\n",
    "    print(\"x的取值\",x.flatten())\n",
    "    print('最优值为',z)\n",
    "\n",
    "# 寻找alpha\n",
    "\n",
    "def Alpha(c,A,b,lam,v,x,alpha,delta_lam,delta_v,delta_x):\n",
    "    alpha_x=[]\n",
    "    alpha_lam=[]\n",
    "    for i in range(x.shape[0]):\n",
    "        if delta_x.flatten()[i]<0:\n",
    "            alpha_x.append(x.flatten()[i]/-delta_x.flatten()[i])\n",
    "        if delta_lam.flatten()[i]<0:\n",
    "            alpha_lam.append(lam.flatten()[i]/-delta_lam.flatten()[i])\n",
    "    if len(alpha_x)==0 and len(alpha_lam)==0:\n",
    "        return alpha\n",
    "    else:\n",
    "        alpha_x.append(np.inf)\n",
    "        alpha_lam.append(np.inf)\n",
    "        alpha_x = np.array(alpha_x)\n",
    "        alpha_lam= np.array(alpha_lam)\n",
    "        alpha_max = min(np.min(alpha_x), np.min(alpha_lam))\n",
    "        alpha_k = min(1,0.99*alpha_max)\n",
    "    return alpha_k\n",
    "\n",
    "\n",
    "c = np.array([-5, -1, 0,0]).reshape(-1, 1)\n",
    "A = np.array([[1, 1, 1, 0], [2, 0.5, 0, 1]])\n",
    "b = np.array([5, 8]).reshape(-1, 1)\n",
    "Interior_Point(c,A,b)\n"
   ]
  },
  {
   "cell_type": "code",
   "execution_count": 10,
   "metadata": {},
   "outputs": [
    {
     "data": {
      "text/plain": [
       "           con: array([], dtype=float64)\n",
       " crossover_nit: 0\n",
       "         eqlin:  marginals: array([], dtype=float64)\n",
       "  residual: array([], dtype=float64)\n",
       "           fun: -3360.0\n",
       "       ineqlin:  marginals: array([-48.,  -2.])\n",
       "  residual: array([0., 0.])\n",
       "         lower:  marginals: array([0., 0.])\n",
       "  residual: array([20., 30.])\n",
       "       message: 'Optimization terminated successfully. (HiGHS Status 7: Optimal)'\n",
       "           nit: 2\n",
       "         slack: array([0., 0.])\n",
       "        status: 0\n",
       "       success: True\n",
       "         upper:  marginals: array([0., 0.])\n",
       "  residual: array([13.33333333,         inf])\n",
       "             x: array([20., 30.])"
      ]
     },
     "execution_count": 10,
     "metadata": {},
     "output_type": "execute_result"
    }
   ],
   "source": [
    "from scipy.optimize import linprog\n",
    "c=[-72,-64]\n",
    "A=[[1,1],[12,8]]\n",
    "b=[[50],[480]]\n",
    "bounds=((0,100/3.0),(0,None))\n",
    "res=linprog(c=c, A_ub=A, b_ub=b, A_eq=None, b_eq=None, bounds=bounds) \n",
    "res\n"
   ]
  },
  {
   "cell_type": "code",
   "execution_count": 13,
   "metadata": {},
   "outputs": [],
   "source": [
    "import pulp as pp\n",
    "# 目标函数的系数\n",
    "\n",
    "z = [2, 3, 1]\n",
    "a = [[1, 4, 2], [3, 2, 0]]\n",
    "b = [8,6]\n",
    "aeq = [[1,2,4]]\n",
    "beq = [101]\n",
    "\n",
    "m = pp.LpProblem(sense=pp.LpMaximize)\n"
   ]
  },
  {
   "cell_type": "code",
   "execution_count": 5,
   "metadata": {},
   "outputs": [
    {
     "name": "stdout",
     "output_type": "stream",
     "text": [
      "     fun: 311.35869567784977\n",
      "     jac: array([0.55868912, 0.51999664, 0.55870056])\n",
      " message: 'Optimization terminated successfully'\n",
      "    nfev: 32\n",
      "     nit: 8\n",
      "    njev: 8\n",
      "  status: 0\n",
      " success: True\n",
      "       x: array([184.77788356, 250.        , 265.22211644])\n",
      "best x:\n",
      " [172.18202601 238.87192682 288.94604716] \n",
      "best_y:\n",
      " [312.20335168]\n"
     ]
    }
   ],
   "source": [
    "import numpy as np\n",
    "from scipy.optimize import minimize\n",
    "def func(x):\n",
    "    return 10.5+0.3*x[0]+0.32*x[1]+0.32*x[2]+0.0007*x[0]**2+0.0004*x[1]**2+0.00045*x[2]**2\n",
    "cons=({'type':'eq','fun':lambda x: x[0]+x[1]+x[2]-700})\n",
    "b1,b2,b3=(100,200),(120,250),(150,300)\n",
    "x_0=np.array([100,200,400])\n",
    "res=minimize(func,x_0,method='SLSQP',constraints=cons,bounds=(b1,b2,b3))\n",
    "print(res)\n",
    "\n",
    "from sko.GA import GA\n",
    "def func(x):\n",
    "    return 10.5+0.3*x[0]+0.32*x[1]+0.32*x[2]+0.0007*x[0]**2+0.0004*x[1]**2+0.00045*x[2]**2\n",
    "cons=lambda x: x[0]+x[1]+x[2]-700\n",
    "b1,b2,b3=(100,200),(120,250),(150,300)\n",
    "ga=GA(func=func,n_dim=3,size_pop=500,max_iter=500,constraint_eq=[cons],lb=[100,120,150],ub=[200,250,300])\n",
    "best_x,best_y=ga.run()\n",
    "print(\"best x:\\n\",best_x,\"\\nbest_y:\\n\",best_y)\n"
   ]
  },
  {
   "cell_type": "code",
   "execution_count": 2,
   "metadata": {},
   "outputs": [
    {
     "name": "stdout",
     "output_type": "stream",
     "text": [
      "['date', 'apple', 'banana', 'cherry']\n"
     ]
    }
   ],
   "source": [
    "# 列表中的元素\n",
    "words = ['apple', 'banana', 'cherry', 'date']\n",
    "\n",
    "# 使用 lambda 函数进行排序\n",
    "# lambda 函数接受一个元素，返回该元素的长度\n",
    "words.sort(key=lambda word: len(word))\n",
    "\n",
    "print(words)"
   ]
  },
  {
   "cell_type": "code",
   "execution_count": null,
   "metadata": {},
   "outputs": [],
   "source": [
    "double = lambda x: x * 2\n",
    "\n",
    "print(double(5))  # 输出：10"
   ]
  },
  {
   "cell_type": "code",
   "execution_count": 3,
   "metadata": {},
   "outputs": [
    {
     "name": "stdout",
     "output_type": "stream",
     "text": [
      "7\n"
     ]
    }
   ],
   "source": [
    "# 定义一个 lambda 函数，它接受两个参数 a 和 b，然后返回它们的和\n",
    "add = lambda a, b: a + b\n",
    "\n",
    "print(add(3, 4))  # 输出：7"
   ]
  }
 ],
 "metadata": {
  "kernelspec": {
   "display_name": "Python 3",
   "language": "python",
   "name": "python3"
  },
  "language_info": {
   "codemirror_mode": {
    "name": "ipython",
    "version": 3
   },
   "file_extension": ".py",
   "mimetype": "text/x-python",
   "name": "python",
   "nbconvert_exporter": "python",
   "pygments_lexer": "ipython3",
   "version": "3.9.16"
  }
 },
 "nbformat": 4,
 "nbformat_minor": 2
}
