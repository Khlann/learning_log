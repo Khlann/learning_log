{
 "cells": [
  {
   "cell_type": "code",
   "execution_count": 1,
   "metadata": {},
   "outputs": [
    {
     "name": "stdout",
     "output_type": "stream",
     "text": [
      "Generated PSD A: (1000, 1000), b: (1000,)\n",
      "A is positive definite\n",
      "scipy_cg time: 1.1941978931427002\n",
      "my_cg time: 0.12070584297180176\n",
      "error: 0.0003341374843124111\n"
     ]
    }
   ],
   "source": [
    "import numpy as np\n",
    "from scipy.sparse import csr_matrix\n",
    "from scipy.sparse.linalg import cg\n",
    "import scipy.sparse as sp\n",
    "from time import time\n",
    "\n",
    "# judge if A is positive definite\n",
    "# https://stackoverflow.com/a/44287862/19253199\n",
    "# if A is symmetric and able to be Cholesky decomposed, then A is positive definite\n",
    "def is_pos_def(A):\n",
    "    A=A.toarray()\n",
    "    if np.array_equal(A, A.T):\n",
    "        try:\n",
    "            np.linalg.cholesky(A)\n",
    "            print(\"A is positive definite\")\n",
    "            return True\n",
    "        except np.linalg.LinAlgError:\n",
    "            print(\"A is not positive definite\")\n",
    "            return False\n",
    "    else:\n",
    "        print(\"A is not positive definite\")\n",
    "        return False\n",
    "\n",
    "def generate_A_b_psd(n=1000):\n",
    "    A = sp.random(n, n, density=0.01, format=\"csr\")\n",
    "    A = A.T @ A\n",
    "    b = np.random.rand(A.shape[0])\n",
    "    print(f\"Generated PSD A: {A.shape}, b: {b.shape}\")\n",
    "    A = sp.csr_matrix(A)\n",
    "    assert is_pos_def(A)\n",
    "    return A, b\n",
    "\n",
    "def main():\n",
    "    A,b = generate_A_b_psd()\n",
    "\n",
    "    t=time()\n",
    "    x_sp, exit_code = cg(A, b, atol=1e-5)\n",
    "    print(\"scipy_cg time:\", time()-t)\n",
    "    t=time()\n",
    "    x_my = my_cg(A, b)\n",
    "    print(\"my_cg time:\", time()-t)\n",
    "    print(\"error:\", np.linalg.norm(x_sp-x_my))\n",
    "\n",
    "\n",
    "def my_cg(A, b, atol=1e-5):\n",
    "    x=np.zeros(A.shape[0])\n",
    "    r0=b-A@x\n",
    "    p=r0.copy()\n",
    "    r=r0.copy()\n",
    "    k=0\n",
    "    while True:\n",
    "        Ap = A@p\n",
    "        rTr = r.T@r\n",
    "        alpha = rTr / (p.T@Ap)\n",
    "        x1 = x + alpha * p\n",
    "        r1 = r - alpha * Ap\n",
    "        if np.linalg.norm(r1)<atol:\n",
    "            break\n",
    "        beta=r1.T@r1/(rTr)\n",
    "        p1=r1+beta*p\n",
    "        x=x1.copy()\n",
    "        r=r1.copy()\n",
    "        p=p1.copy()\n",
    "        k+=1\n",
    "    return x1\n",
    "\n",
    "if __name__ == \"__main__\":\n",
    "    main()\n",
    "\n"
   ]
  }
 ],
 "metadata": {
  "kernelspec": {
   "display_name": "Python 3",
   "language": "python",
   "name": "python3"
  },
  "language_info": {
   "codemirror_mode": {
    "name": "ipython",
    "version": 3
   },
   "file_extension": ".py",
   "mimetype": "text/x-python",
   "name": "python",
   "nbconvert_exporter": "python",
   "pygments_lexer": "ipython3",
   "version": "3.9.13"
  }
 },
 "nbformat": 4,
 "nbformat_minor": 2
}
